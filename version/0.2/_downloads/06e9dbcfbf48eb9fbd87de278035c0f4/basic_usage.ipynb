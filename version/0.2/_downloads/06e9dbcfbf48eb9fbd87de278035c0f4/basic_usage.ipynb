{
  "cells": [
    {
      "cell_type": "markdown",
      "metadata": {},
      "source": [
        "\n\n# PyAnsys Units basics\nPyAnsys Units provides a Pythonic interface for units, unit systems, and unit conversions.\nIts features enable seamless setup and usage of physical quantities.\n\nThis example shows you how to perform these tasks:\n\n- Create quantities (unit strings, dimensions, and quantity tables).\n- Access different quantity properties.\n- Perform arithmetic operations.\n- Perform unit conversions.\n- Create unit systems (custom and predefined).\n- Apply unit systems to quantities.\n"
      ]
    },
    {
      "cell_type": "code",
      "execution_count": null,
      "metadata": {
        "collapsed": false
      },
      "outputs": [],
      "source": [
        "# sphinx_gallery_thumbnail_path = '_static/basic_usage.png'"
      ]
    },
    {
      "cell_type": "markdown",
      "metadata": {},
      "source": [
        "## Perform required imports\nImport the ``ansys.units`` package.\n\n"
      ]
    },
    {
      "cell_type": "code",
      "execution_count": null,
      "metadata": {
        "collapsed": false
      },
      "outputs": [],
      "source": [
        "from ansys.units import BaseDimensions, Dimensions, Quantity, UnitSystem\nfrom ansys.units.quantity import get_si_value"
      ]
    },
    {
      "cell_type": "markdown",
      "metadata": {},
      "source": [
        "## Create quantities\nYou can instantiate quantities using one of three methods:\n- Unit strings : str, Unit\n- Dimensions : Dimensions\n- Quantity table : dict\n\n"
      ]
    },
    {
      "cell_type": "code",
      "execution_count": null,
      "metadata": {
        "collapsed": false
      },
      "outputs": [],
      "source": [
        "# Unit strings\n\nvolume = Quantity(value=1, units=\"m^3\")\n\nacceleration = Quantity(value=3, units=\"m s^-2\")\n\ntorque = Quantity(value=5, units=\"N m\")\n\n# Dimensions\n\ndims = BaseDimensions\n\nvol_dims = Dimensions({dims.LENGTH: 3})\nvolume = Quantity(value=1, dimensions=vol_dims)\n\nacc_dims = Dimensions({dims.LENGTH: 1, dims.TIME: -2})\nacceleration = Quantity(value=3, dimensions=acc_dims)\n\ntor_dims = Dimensions({dims.MASS: 1, dims.LENGTH: 2, dims.TIME: -2})\ntorque = Quantity(value=5, dimensions=tor_dims)\n\n# Quantity table\n\nvol_dict = {\"Volume\": 1}\nvolume = Quantity(value=1, quantity_table=vol_dict)\n\nacc_dict = {\"Acceleration\": 1}\nacceleration = Quantity(value=3, quantity_table=acc_dict)\n\ntor_dict = {\"Torque\": 1}\ntorque = Quantity(value=5, quantity_table=tor_dict)"
      ]
    },
    {
      "cell_type": "markdown",
      "metadata": {},
      "source": [
        "## Specify quantity properties\nFor a quantity, you specify seven properties:\n\n"
      ]
    },
    {
      "cell_type": "code",
      "execution_count": null,
      "metadata": {
        "collapsed": false
      },
      "outputs": [],
      "source": [
        "# 1. value : float | int\n# 2. units : str\n# 3. si_value : float | int\n# 4. si_units : str\n# 5. dimensions : dict\n# 6. is_dimensionless : bool\n\n\ncap_dict = {\"Capacitance\": 1}\ncapacitance = Quantity(value=50, quantity_table=cap_dict)\n\ncapacitance.value  # >>> 50.0\ncapacitance.units.name  # >>> \"farad\"\ncapacitance.units.si_units  # >>> \"kg^-1 m^-2 s^4 A^2\"\ncapacitance.dimensions  # >>> {'MASS': -1.0, 'LENGTH': -2.0, 'TIME': 4.0, 'CURRENT': 2.0}\ncapacitance.is_dimensionless  # >>> False\nget_si_value(capacitance)  # >>> 50.0"
      ]
    },
    {
      "cell_type": "markdown",
      "metadata": {},
      "source": [
        "## Perform arithmetic operations\nYou can perform all mathematical operations on a quantity.\n\n"
      ]
    },
    {
      "cell_type": "code",
      "execution_count": null,
      "metadata": {
        "collapsed": false
      },
      "outputs": [],
      "source": [
        "import math\n\nq1 = Quantity(10.0, \"m s^-1\")\nq2 = Quantity(5.0, \"m s^-1\")\n\n# Subtraction\n\nq3 = q2 - q1\nq3.value  # >>> 5.0\nq3.units.name  # >>> \"m s^-1\"\n\n# Addition\n\nq4 = q2 + q1\nq4.value  # >>> 15.0\nq4.units.name  # >>> \"m s^-1\"\n\n# Division\n\nq5 = q2 / q1\nq5.value  # >>> 2.0\nq5.units.name  # >>> None\n\n# Multiplication\n\nq6 = q2 * q1\nq6.value  # >>> 50.0\nq6.units.name  # >>> \"m^2 s^-2\"\n\n# Negation\n\nq7 = -q2\nq7.value  # >>> -5.0\nq7.units.name  # >>> \"m s^-1\"\n\n# Exponents\n\nq8 = q1**2\nq8.value  # >>> 100.0\nq8.units.name  # >>> \"m^2 s^-2\"\n\n# Roots\n\nq9 = Quantity(5.0, \"\")\n\nmath.sqrt(q9)  # >>> 2.2360679775\n\n# Trigonometry\n\nmath.sin(Quantity(90, \"degree\"))  # >>> 1.0\nmath.cos(Quantity(math.pi, \"radian\"))  # >>> -1.0"
      ]
    },
    {
      "cell_type": "markdown",
      "metadata": {},
      "source": [
        "## Perform conversions\nTo check the compatible units use the 'compatible_units' method.\n\n"
      ]
    },
    {
      "cell_type": "code",
      "execution_count": null,
      "metadata": {
        "collapsed": false
      },
      "outputs": [],
      "source": [
        "slug = Quantity(value=5, units=\"slug\")\nslug.compatible_units()  # >>> {'lbm', 'g', 'lb', 'kg'}\n\n# You can perform conversions on quantities with compatible units.\n\nkg = slug.to(\"kg\")\n\nkg.value  # >>> 72.96951468603184\nkg.units.name  # >>> \"kg\"\n\nm = Quantity(value=25, units=\"m\")\ncm = m.to(\"cm\")\n\ncm.value  # >>> 2500\ncm.units.name  # >>> \"cm\"\n\ndvis = Quantity(1.0, \"lb ft^-1 s^-1\")\npas = dvis.to(\"Pa s\")\n\npas.value  # >>> 1.4881639435695542\npas.units.name  # >>> \"Pa s\""
      ]
    },
    {
      "cell_type": "markdown",
      "metadata": {},
      "source": [
        "## Instantiate unit systems\nYou can instantiate unit systems using a few methods:\n\n- Custom units\n- Predefined unit systems\n- Copy from a preexisting unit system\n- Combinations of these\n\n"
      ]
    },
    {
      "cell_type": "code",
      "execution_count": null,
      "metadata": {
        "collapsed": false
      },
      "outputs": [],
      "source": [
        "# Custom units\n\ndims = BaseDimensions\nsys_units = {dims.MASS: \"slug\", dims.LENGTH: \"ft\"}\nsys = UnitSystem(base_units=sys_units, system=\"SI\")\nsys\n\"\"\"\nMASS: slug\nLENGTH: ft\nTIME: s\nTEMPERATURE: K\nTEMPERATURE_DIFFERENCE: delta_K\nANGLE: radian\nCHEMICAL_AMOUNT: mol\nLIGHT: cd\nCURRENT: A\nSOLID_ANGLE: sr\n\"\"\"\n\n# Predefined unit systems\n\ncgs = UnitSystem(system=\"CGS\")\ncgs\n\"\"\"\nMASS: g\nLENGTH: cm\nTIME: s\nTEMPERATURE: K\nTEMPERATURE_DIFFERENCE: delta_K\nANGLE: radian\nCHEMICAL_AMOUNT: mol\nLIGHT: cd\nCURRENT: A\nSOLID_ANGLE: sr\n\"\"\"\n\n\n# Copy from a preexisting unit system\n\ncgs_copy = UnitSystem(copy_from=cgs)\ncgs_copy\n\"\"\"\nMASS: g\nLENGTH: cm\nTIME: s\nTEMPERATURE: K\nTEMPERATURE_DIFFERENCE: delta_K\nANGLE: radian\nCHEMICAL_AMOUNT: mol\nLIGHT: cd\nCURRENT: A\nSOLID_ANGLE: sr\n\"\"\"\n\n\n# Combinations of these\n\nsys_units = {dims.MASS: \"slug\", dims.LENGTH: \"ft\", dims.ANGLE: \"degree\"}\ncgs_modified = UnitSystem(base_units=sys_units, copy_from=cgs)\ncgs_modified\n\"\"\"\nMASS: slug\nLENGTH: ft\nTIME: s\nTEMPERATURE: K\nTEMPERATURE_DIFFERENCE: delta_K\nANGLE: degree\nCHEMICAL_AMOUNT: mol\nLIGHT: cd\nCURRENT: A\nSOLID_ANGLE: sr\n\"\"\""
      ]
    },
    {
      "cell_type": "markdown",
      "metadata": {},
      "source": [
        "## Create a unit system independently\nYou can create a unit system independently and apply it to quantities.\n\n"
      ]
    },
    {
      "cell_type": "code",
      "execution_count": null,
      "metadata": {
        "collapsed": false
      },
      "outputs": [],
      "source": [
        "si = UnitSystem()\nfeet_per_second = Quantity(value=11.2, units=\"ft s^-1\")\n\nmeters_per_second = feet_per_second.convert(si)\n\nmeters_per_second.value  # >>> 3.4137599999999995\nmeters_per_second.units  # >>> \"m s^-1\""
      ]
    },
    {
      "cell_type": "markdown",
      "metadata": {},
      "source": [
        "## Using preferred units\nSpecify a list of units that quantities will automatically convert to.\n\n"
      ]
    },
    {
      "cell_type": "code",
      "execution_count": null,
      "metadata": {
        "collapsed": false
      },
      "outputs": [],
      "source": [
        "Quantity.preferred_units(units=[\"J\"])\n\ntorque = Quantity(1, quantity_table={\"Torque\": 1})\ntorque  # >>> Quantity (1.0, \"J\")\n\nten_N = Quantity(10, units=\"N\")\nten_m = Quantity(10, units=\"m\")\n\njoules = ten_N * ten_m\njoules  # >>> Quantity (100.0, \"J\")"
      ]
    }
  ],
  "metadata": {
    "kernelspec": {
      "display_name": "Python 3",
      "language": "python",
      "name": "python3"
    },
    "language_info": {
      "codemirror_mode": {
        "name": "ipython",
        "version": 3
      },
      "file_extension": ".py",
      "mimetype": "text/x-python",
      "name": "python",
      "nbconvert_exporter": "python",
      "pygments_lexer": "ipython3",
      "version": "3.9.18"
    }
  },
  "nbformat": 4,
  "nbformat_minor": 0
}