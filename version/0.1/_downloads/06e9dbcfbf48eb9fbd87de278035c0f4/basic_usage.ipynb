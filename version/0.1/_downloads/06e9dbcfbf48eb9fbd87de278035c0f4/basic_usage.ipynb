{
  "cells": [
    {
      "cell_type": "markdown",
      "metadata": {},
      "source": [
        "\n\n# PyAnsys Units basics\nPyAnsys Units provides a Pythonic interface for units, unit systems, and unit conversions.\nIts features enable seamless setup and usage of physical quantities.\n\nThis example shows you how to perform these tasks:\n\n- Create quantities (unit strings, dimensions, and quantity maps).\n- Access different quantity properties.\n- Perform arithmetic operations.\n- Perform unit conversions.\n- Create unit systems (custom and predefined).\n- Apply unit systems to quantities.\n"
      ]
    },
    {
      "cell_type": "code",
      "execution_count": null,
      "metadata": {
        "collapsed": false
      },
      "outputs": [],
      "source": [
        "# sphinx_gallery_thumbnail_path = '_static/basic_usage.png'"
      ]
    },
    {
      "cell_type": "markdown",
      "metadata": {},
      "source": [
        "## Perform required imports\nImport the ``ansys.units`` package.\n\n"
      ]
    },
    {
      "cell_type": "code",
      "execution_count": null,
      "metadata": {
        "collapsed": false
      },
      "outputs": [],
      "source": [
        "import ansys.units as ansunits"
      ]
    },
    {
      "cell_type": "markdown",
      "metadata": {},
      "source": [
        "## Create quantities\nYou can instantiate quantities using one of three methods:\n- Unit strings : str\n- Dimensions : list\n- Quantity maps : dict\n\n"
      ]
    },
    {
      "cell_type": "code",
      "execution_count": null,
      "metadata": {
        "collapsed": false
      },
      "outputs": [],
      "source": [
        "# Unit strings\n\nvolume = ansunits.Quantity(value=1, units=\"m^3\")\n\nacceleration = ansunits.Quantity(value=3, units=\"m s^-2\")\n\ntorque = ansunits.Quantity(value=5, units=\"N m\")\n\n# Dimensions\n\nvol_dims = [0, 3]\nvolume = ansunits.Quantity(value=1, dimensions=vol_dims)\n\nacc_dims = [0, 1, -2]\nacceleration = ansunits.Quantity(value=3, dimensions=acc_dims)\n\ntor_dims = [1, 2, -2]\ntorque = ansunits.Quantity(value=5, dimensions=tor_dims)\n\n# Quantity map\n\nvol_map = {\"Volume\": 1}\nvolume = ansunits.Quantity(value=1, quantity_map=vol_map)\n\nacc_map = {\"Acceleration\": 1}\nacceleration = ansunits.Quantity(value=3, quantity_map=acc_map)\n\ntor_map = {\"Torque\": 1}\ntorque = ansunits.Quantity(value=5, quantity_map=tor_map)"
      ]
    },
    {
      "cell_type": "markdown",
      "metadata": {},
      "source": [
        "## Specify quantity properties\nFor a quantity, you specify seven properties:\n\n"
      ]
    },
    {
      "cell_type": "code",
      "execution_count": null,
      "metadata": {
        "collapsed": false
      },
      "outputs": [],
      "source": [
        "# 1. value : float | int\n# 2. units : str\n# 3. si_value : float | int\n# 4. si_units : str\n# 5. dimensions : list\n# 6. is_dimensionless : bool\n# 7. type : str\n\ncap_map = {\"Capacitance\": 1}\ncapacitance = ansunits.Quantity(value=50, quantity_map=cap_map)\n\ncapacitance.value  # >>> 50.0\ncapacitance.units  # >>> \"farad\"\ncapacitance.si_value  # >>> 50.0\ncapacitance.si_units  # >>> \"kg^-1 m^-2 s^4 A^2\"\ncapacitance.dimensions  # >>> [-1.0, -2.0, 4.0, 0.0, 0.0, 0.0, 0.0, 2.0, 0.0]\ncapacitance.is_dimensionless  # >>> False\ncapacitance.type  # >>> \"Derived\""
      ]
    },
    {
      "cell_type": "markdown",
      "metadata": {},
      "source": [
        "## Perform arithmetic operations\nYou can perform all mathematical operations on a quantity.\n\n"
      ]
    },
    {
      "cell_type": "code",
      "execution_count": null,
      "metadata": {
        "collapsed": false
      },
      "outputs": [],
      "source": [
        "import math\n\nq1 = ansunits.Quantity(10.0, \"m s^-1\")\nq2 = ansunits.Quantity(5.0, \"m s^-1\")\n\n# Subtraction\n\nq3 = q2 - q1\nq3.value  # >>> 5.0\nq3.units  # >>> \"m s^-1\"\n\n# Addition\n\nq4 = q2 + q1\nq4.value  # >>> 15.0\nq4.units  # >>> \"m s^-1\"\n\n# Division\n\nq5 = q2 / q1\nq5.value  # >>> 2.0\nq5.units  # >>> None\n\n# Multiplication\n\nq6 = q2 * q1\nq6.value  # >>> 50.0\nq6.units  # >>> \"m^2 s^-2\"\n\n# Negation\n\nq7 = -q2\nq7.value  # >>> -5.0\nq7.units  # >>> \"m s^-1\"\n\n# Exponents\n\nq8 = q1**2\nq8.value  # >>> 100.0\nq8.units  # >>> \"m^2 s^-2\"\n\n# Roots\n\nmath.sqrt(q2)  # >>> 2.2360679775\n\n# Trigonometry\n\nmath.sin(ansunits.Quantity(90, \"degree\"))  # >>> 1.0\nmath.cos(ansunits.Quantity(math.pi, \"radian\"))  # >>> -1.0"
      ]
    },
    {
      "cell_type": "markdown",
      "metadata": {},
      "source": [
        "## Perform conversions\nYou can perform conversions on quantities with compatible units.\n\n"
      ]
    },
    {
      "cell_type": "code",
      "execution_count": null,
      "metadata": {
        "collapsed": false
      },
      "outputs": [],
      "source": [
        "slug = ansunits.Quantity(value=5, units=\"slug\")\nkg = slug.to(\"kg\")\n\nkg.value  # >>> 72.96951468603184\nkg.units  # >>> \"kg\"\n\nm = ansunits.Quantity(value=25, units=\"m\")\ncm = m.to(\"cm\")\n\ncm.value  # >>> 2500\ncm.units  # >>> \"cm\"\n\ndvis = ansunits.Quantity(1.0, \"lb ft^-1 s^-1\")\npas = dvis.to(\"Pa s\")\n\npas.value  # >>> 1.4881639435695542\npas.units  # >>> \"Pa s\""
      ]
    },
    {
      "cell_type": "markdown",
      "metadata": {},
      "source": [
        "## Instantiate unit systems\nYou can instantiate unit systems using one of two methods:\n\n- Custom units\n- Predefined unit systems\n\n"
      ]
    },
    {
      "cell_type": "code",
      "execution_count": null,
      "metadata": {
        "collapsed": false
      },
      "outputs": [],
      "source": [
        "# Custom units\n\nsys_units = [\"kg\", \"m\", \"s\", \"K\", \"radian\", \"mol\", \"cd\", \"A\", \"sr\"]\nsys = ansunits.UnitSystem(name=\"sys\", base_units=sys_units)\n\nsys.name  # >>> \"sys\"\nsys.base_units  # >>> [\"kg\", \"m\", \"s\", \"K\", \"radian\", \"mol\", \"cd\", \"A\", \"sr\"]\n\n# Predefined unit systems\n\ncgs = ansunits.UnitSystem(unit_sys=\"CGS\")\n\ncgs.name  # >>> \"cgs\"\ncgs.base_units  # >>> ['g', 'cm', 's', 'K', 'radian', 'mol', 'cd', 'A', 'sr']"
      ]
    },
    {
      "cell_type": "markdown",
      "metadata": {},
      "source": [
        "## Create a unit system independently\nYou can create a unit system independently and apply it to quantities.\n\n"
      ]
    },
    {
      "cell_type": "code",
      "execution_count": null,
      "metadata": {
        "collapsed": false
      },
      "outputs": [],
      "source": [
        "si = ansunits.UnitSystem(unit_sys=\"SI\")\nfps = ansunits.Quantity(value=11.2, units=\"ft s^-1\")\n\nmps = si.convert(fps)\n\nmps.value  # >>> 3.4137599999999995\nmps.units  # >>> \"m s^-1\""
      ]
    }
  ],
  "metadata": {
    "kernelspec": {
      "display_name": "Python 3",
      "language": "python",
      "name": "python3"
    },
    "language_info": {
      "codemirror_mode": {
        "name": "ipython",
        "version": 3
      },
      "file_extension": ".py",
      "mimetype": "text/x-python",
      "name": "python",
      "nbconvert_exporter": "python",
      "pygments_lexer": "ipython3",
      "version": "3.10.13"
    }
  },
  "nbformat": 4,
  "nbformat_minor": 0
}