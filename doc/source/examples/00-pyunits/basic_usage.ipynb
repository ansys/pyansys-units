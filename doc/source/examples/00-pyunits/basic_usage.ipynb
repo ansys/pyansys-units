{
  "cells": [
    {
      "cell_type": "code",
      "execution_count": null,
      "metadata": {
        "collapsed": false
      },
      "outputs": [],
      "source": [
        "%matplotlib inline"
      ]
    },
    {
      "cell_type": "markdown",
      "metadata": {},
      "source": [
        "\n# PyUnits Basics\nPyUnits provides a pythonic interface for units, unit systems, and unit conversions.\nIts features enable seamless setup and usage of physical quantities.\n\n**Getting Started**\n\nThe following examples cover:\n\n- Creating quantities (unit strings, dimensions, quantity map)\n- Accessing different quantity properties\n- Performing arithmetic operations\n- Performing unit conversions\n- Creating unit systems (custom, pre-defined)\n- Applying unit systems to quantities\n"
      ]
    },
    {
      "cell_type": "code",
      "execution_count": null,
      "metadata": {
        "collapsed": false
      },
      "outputs": [],
      "source": [
        "# sphinx_gallery_thumbnail_path = '_static/basic_usage.png'"
      ]
    },
    {
      "cell_type": "markdown",
      "metadata": {},
      "source": [
        "# Basic Usage\n\n## Units Setup\nImporting the pyunits library\n\n"
      ]
    },
    {
      "cell_type": "code",
      "execution_count": null,
      "metadata": {
        "collapsed": false
      },
      "outputs": [],
      "source": [
        "import ansys.units as q"
      ]
    },
    {
      "cell_type": "markdown",
      "metadata": {},
      "source": [
        "## Creating Quantities\nQuantities can be instantiated with 1 of 3 methods:\n  1. Unit String : str\n  2. Dimensions : list\n  3. Quantity Map : dict\n\n"
      ]
    },
    {
      "cell_type": "code",
      "execution_count": null,
      "metadata": {
        "collapsed": false
      },
      "outputs": [],
      "source": [
        "# Unit Strings\n\nvolume = q.Quantity(value=1, units=\"m^3\")\n\nacceleration = q.Quantity(value=3, units=\"m s^-2\")\n\ntorque = q.Quantity(value=5, units=\"N m\")\n\n# Dimensions\n\nvol_dims = [0, 3]\nvolume = q.Quantity(value=1, dimensions=vol_dims)\n\nacc_dims = [0, 1, -2]\nacceleration = q.Quantity(value=3, dimensions=acc_dims)\n\ntor_dims = [1, 2, -2]\ntorque = q.Quantity(value=5, dimensions=tor_dims)\n\n# Quantity Map\n\nvol_map = {\"Volume\": 1}\nvolume = q.Quantity(value=1, quantity_map=vol_map)\n\nacc_map = {\"Acceleration\": 1}\nacceleration = q.Quantity(value=3, quantity_map=acc_map)\n\ntor_map = {\"Torque\": 1}\ntorque = q.Quantity(value=5, quantity_map=tor_map)"
      ]
    },
    {
      "cell_type": "markdown",
      "metadata": {},
      "source": [
        "## Accessing different quantity properties\nQuantity objects have a total of 7 properties:\n  1. value : float | int\n  2. units : str\n  3. si_value : float | int\n  4. si_units : str\n  5. dimensions : list\n  6. is_dimensionless : bool\n  7. type : str\n\n"
      ]
    },
    {
      "cell_type": "code",
      "execution_count": null,
      "metadata": {
        "collapsed": false
      },
      "outputs": [],
      "source": [
        "cap_map = {\"Capacitance\": 1}\ncapacitance = q.Quantity(value=50, quantity_map=cap_map)\n\ncapacitance.value  # >>> 50.0\ncapacitance.units  # >>> \"farad\"\ncapacitance.si_value  # >>> 50.0\ncapacitance.si_units  # >>> \"kg^-1 m^-2 s^4 A^2\"\ncapacitance.dimensions  # >>> [-1.0, -2.0, 4.0, 0.0, 0.0, 0.0, 0.0, 2.0, 0.0]\ncapacitance.is_dimensionless  # >>> False\ncapacitance.type  # >>> \"Derived\""
      ]
    },
    {
      "cell_type": "markdown",
      "metadata": {},
      "source": [
        "## Performing arithmetic operations\nQuantity objects support all mathematical operations.\n\n"
      ]
    },
    {
      "cell_type": "code",
      "execution_count": null,
      "metadata": {
        "collapsed": false
      },
      "outputs": [],
      "source": [
        "import math\n\nq1 = q.Quantity(10.0, \"m s^-1\")\nq2 = q.Quantity(5.0, \"m s^-1\")\n\n# Subtraction\n\nq3 = q2 - q1\nq3.value  # >>> 5.0\nq3.units  # >>> \"m s^-1\"\n\n# Addition\n\nq4 = q2 + q1\nq4.value  # >>> 15.0\nq4.units  # >>> \"m s^-1\"\n\n# Division\n\nq5 = q2 / q1\nq5.value  # >>> 2.0\nq5.units  # >>> None\n\n# Multiplication\n\nq6 = q2 * q1\nq6.value  # >>> 50.0\nq6.units  # >>> \"m^2 s^-2\"\n\n# Negation\n\nq7 = -q2\nq7.value  # >>> -5.0\nq7.units  # >>> \"m s^-1\"\n\n# Exponents\n\nq8 = q1**2\nq8.value  # >>> 100.0\nq8.units  # >>> \"m^2 s^-2\"\n\n# Roots\n\nmath.sqrt(q2)  # >>> 2.2360679775\n\n# Trigonometry\n\nmath.sin(q.Quantity(90, \"degree\"))  # >>> 1.0\nmath.cos(q.Quantity(math.pi, \"radian\"))  # >>> -1.0"
      ]
    },
    {
      "cell_type": "markdown",
      "metadata": {},
      "source": [
        "## Performing unit conversions\nConversions can be performed between Quantities with compatible units.\n\n"
      ]
    },
    {
      "cell_type": "code",
      "execution_count": null,
      "metadata": {
        "collapsed": false
      },
      "outputs": [],
      "source": [
        "slug = q.Quantity(value=5, units=\"slug\")\nkg = slug.to(\"kg\")\n\nkg.value  # >>> 72.96951468603184\nkg.units  # >>> \"kg\"\n\nm = q.Quantity(value=25, units=\"m\")\ncm = m.to(\"cm\")\n\ncm.value  # >>> 2500\ncm.units  # >>> \"cm\"\n\ndvis = q.Quantity(1.0, \"lb ft^-1 s^-1\")\npas = dvis.to(\"Pa s\")\n\npas.value  # >>> 1.4881639435695542\npas.units  # >>> \"Pa s\""
      ]
    },
    {
      "cell_type": "markdown",
      "metadata": {},
      "source": [
        "## Creating unit systems\nUnit Systems can be instantiated with 1 of 2 methods:\n  1. Custom Units\n  2. Pre-defined Unit System\n\n"
      ]
    },
    {
      "cell_type": "code",
      "execution_count": null,
      "metadata": {
        "collapsed": false
      },
      "outputs": [],
      "source": [
        "# Custom Units\n\nsys_units = [\"kg\", \"m\", \"s\", \"K\", \"radian\", \"mol\", \"cd\", \"A\", \"sr\"]\nsys = q.UnitSystem(name=\"sys\", base_units=sys_units)\n\nsys.name  # >>> \"sys\"\nsys.base_units  # >>> [\"kg\", \"m\", \"s\", \"K\", \"radian\", \"mol\", \"cd\", \"A\", \"sr\"]\n\n# Pre-defined Unit Systems\n\ncgs = q.UnitSystem(unit_sys=\"CGS\")\n\ncgs.name  # >>> \"cgs\"\ncgs.base_units  # >>> ['g', 'cm', 's', 'K', 'radian', 'mol', 'cd', 'A', 'sr']"
      ]
    },
    {
      "cell_type": "markdown",
      "metadata": {},
      "source": [
        "## Applying unit systems to quantities\nUnit Systems can be created independently and applied to desired Quantities.\n\n"
      ]
    },
    {
      "cell_type": "code",
      "execution_count": null,
      "metadata": {
        "collapsed": false
      },
      "outputs": [],
      "source": [
        "si = q.UnitSystem(unit_sys=\"SI\")\nfps = q.Quantity(value=11.2, units=\"ft s^-1\")\n\nmps = si.convert(fps)\n\nmps.value  # >>> 3.4137599999999995\nmps.units  # >>> \"m s^-1\""
      ]
    }
  ],
  "metadata": {
    "kernelspec": {
      "display_name": "Python 3",
      "language": "python",
      "name": "python3"
    },
    "language_info": {
      "codemirror_mode": {
        "name": "ipython",
        "version": 3
      },
      "file_extension": ".py",
      "mimetype": "text/x-python",
      "name": "python",
      "nbconvert_exporter": "python",
      "pygments_lexer": "ipython3",
      "version": "3.10.11"
    }
  },
  "nbformat": 4,
  "nbformat_minor": 0
}